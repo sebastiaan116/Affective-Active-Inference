{
 "cells": [
  {
   "cell_type": "code",
   "execution_count": 53,
   "metadata": {},
   "outputs": [
    {
     "name": "stdout",
     "output_type": "stream",
     "text": [
      "Imports done\n"
     ]
    }
   ],
   "source": [
    "# Import the dependencies\n",
    "import numpy as np\n",
    "from scipy.linalg import toeplitz, cholesky, sqrtm, inv\n",
    "# import scipy.linalg as la\n",
    "from scipy import signal\n",
    "from scipy.integrate import odeint\n",
    "import time\n",
    "import matplotlib.pyplot as plt\n",
    "import seaborn as sns\n",
    "sns.set_style(\"white\")\n",
    "print(\"Imports done\")\n"
   ]
  },
  {
   "cell_type": "code",
   "execution_count": 111,
   "metadata": {},
   "outputs": [],
   "source": [
    "# Setting up the time data:\n",
    "dt = 0.005; # integration step, average neuron resets 200 times per second\n",
    "T = 5+dt; # maximum time considered\n",
    "t = np.arange(0,T,dt)\n",
    "N= t.size #Amount of data points\n",
    "v = 30\n",
    "Sigma_real = 1\n",
    "x = np.zeros(N)\n",
    "mu = np.zeros(N)\n",
    "e = np.zeros(N)\n"
   ]
  },
  {
   "cell_type": "code",
   "execution_count": 55,
   "metadata": {},
   "outputs": [
    {
     "name": "stdout",
     "output_type": "stream",
     "text": [
      "1.0\n"
     ]
    }
   ],
   "source": [
    "print(vSigma[0])"
   ]
  },
  {
   "cell_type": "code",
   "execution_count": 56,
   "metadata": {},
   "outputs": [],
   "source": [
    "def makeNoise(C,s2,t):\n",
    "    \n",
    "    if np.size(C)== 1:\n",
    "        n = 1\n",
    "    else:\n",
    "        n = C.shape[1]  # dimension of noise\n",
    "        \n",
    "    # Create the white noise with correct covariance\n",
    "    N = np.size(t)      # number of elements\n",
    "    L = cholesky(C, lower=True)  #Cholesky method\n",
    "    w = np.dot(L,np.random.randn(n,N))\n",
    "    \n",
    "    if s2 <= 1e-5: # return white noise\n",
    "        return w\n",
    "    else: \n",
    "        # Create the noise with temporal smoothness\n",
    "        P = toeplitz(np.exp(-t**2/(2*s2)))\n",
    "        F = np.diag(1./np.sqrt(np.diag(np.dot(P.T,P))))\n",
    "        K = np.dot(P,F)\n",
    "        ws = np.dot(w,K)\n",
    "        return ws"
   ]
  },
  {
   "cell_type": "code",
   "execution_count": 144,
   "metadata": {},
   "outputs": [
    {
     "data": {
      "text/plain": [
       "[<matplotlib.lines.Line2D at 0x27adf892680>]"
      ]
     },
     "execution_count": 144,
     "metadata": {},
     "output_type": "execute_result"
    },
    {
     "data": {
      "image/png": "[encoded data removed]",
      "text/plain": [
       "<Figure size 640x480 with 1 Axes>"
      ]
     },
     "metadata": {},
     "output_type": "display_data"
    }
   ],
   "source": [
    "from statistics import mean, variance\n",
    "\n",
    "Sigma = np.zeros(N)\n",
    "Sigma[0] = 4\n",
    "\n",
    "for i in np.arange(0,N-1):\n",
    "    x[i] = v + np.random.randn(1)*Sigma_real\n",
    "    mu[0] = 25   \n",
    "    e[i] = x[i] - mu[i]\n",
    "    \n",
    "    omega = 1/Sigma[i]\n",
    "    domega = 0.5*(Sigma[i] - e[i]**2)\n",
    "    omega = omega + dt*domega\n",
    "    Sigma[i+1] = 1/omega\n",
    "\n",
    "    dmu = 1/Sigma_real*e[i] #EVEN EXPERIMENTEREN MET SIGMA_REAL OF SIGMA[I]\n",
    "    \n",
    "    mu[i+1] = mu[i] + dt*dmu\n",
    "    \n",
    "\n",
    "\n",
    "\n",
    "# for i in np.arange(0,N-1):\n",
    "#     x[i] = v + np.random.randn(1)*vSigma[i]\n",
    "#     mu[i] =v\n",
    "    \n",
    "#     e[i] = x[i] - mu[i]\n",
    "#     omega = 1/vSigma[i]\n",
    "#     domega = 0.5*(vSigma[i] - e[i]**2) \n",
    "#     omega = omega + dt*domega\n",
    "#     vSigma[i+1] = 1/omega\n",
    "\n",
    "\n",
    "# plt.plot(x)\n",
    "# plt.plot(mu)\n",
    "# plt.plot(e)\n",
    "# plt.plot(Sigma)\n",
    "plt.plot(mu)\n",
    "\n",
    "\n",
    "\n"
   ]
  },
  {
   "cell_type": "code",
   "execution_count": 58,
   "metadata": {},
   "outputs": [
    {
     "name": "stdout",
     "output_type": "stream",
     "text": [
      "[29.39646174 30.90748634 30.32749629 ... 31.86553837 32.1802552\n",
      "  0.        ]\n"
     ]
    }
   ],
   "source": [
    "print(x)"
   ]
  },
  {
   "cell_type": "code",
   "execution_count": 59,
   "metadata": {},
   "outputs": [
    {
     "ename": "SyntaxError",
     "evalue": "invalid syntax (432195485.py, line 1)",
     "output_type": "error",
     "traceback": [
      "\u001b[1;36m  Cell \u001b[1;32mIn[59], line 1\u001b[1;36m\u001b[0m\n\u001b[1;33m    for i = 1:N:\u001b[0m\n\u001b[1;37m          ^\u001b[0m\n\u001b[1;31mSyntaxError\u001b[0m\u001b[1;31m:\u001b[0m invalid syntax\n"
     ]
    }
   ],
   "source": [
    "for i = 1:N:\n",
    "    omega = 1/Sigma\n",
    "    domega = 0.5(1/omega - e^2)"
   ]
  }
 ],
 "metadata": {
  "kernelspec": {
   "display_name": "Affective-AI",
   "language": "python",
   "name": "python3"
  },
  "language_info": {
   "codemirror_mode": {
    "name": "ipython",
    "version": 3
   },
   "file_extension": ".py",
   "mimetype": "text/x-python",
   "name": "python",
   "nbconvert_exporter": "python",
   "pygments_lexer": "ipython3",
   "version": "3.10.11"
  },
  "orig_nbformat": 4
 },
 "nbformat": 4,
 "nbformat_minor": 2
}
