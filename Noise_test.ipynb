{
 "cells": [
  {
   "cell_type": "code",
   "execution_count": 1,
   "metadata": {},
   "outputs": [
    {
     "name": "stdout",
     "output_type": "stream",
     "text": [
      "Imports done\n"
     ]
    }
   ],
   "source": [
    "# Import the dependencies\n",
    "import numpy as np\n",
    "from scipy.linalg import toeplitz, cholesky, sqrtm, inv\n",
    "# import scipy.linalg as la\n",
    "from scipy import signal\n",
    "from scipy.integrate import odeint\n",
    "import time\n",
    "import matplotlib.pyplot as plt\n",
    "import seaborn as sns\n",
    "sns.set_style(\"white\")\n",
    "print(\"Imports done\")\n"
   ]
  },
  {
   "cell_type": "code",
   "execution_count": 3,
   "metadata": {},
   "outputs": [],
   "source": [
    "# Setting up the time data:\n",
    "dt = 0.005; # integration step, average neuron resets 200 times per second\n",
    "T = 5+dt; # maximum time considered\n",
    "t = np.arange(0,T,dt)\n",
    "N= t.size #Amount of data points\n"
   ]
  },
  {
   "cell_type": "code",
   "execution_count": 4,
   "metadata": {},
   "outputs": [],
   "source": [
    "def makeNoise(C,s2,t):\n",
    "    \n",
    "    if np.size(C)== 1:\n",
    "        n = 1\n",
    "    else:\n",
    "        n = C.shape[1]  # dimension of noise\n",
    "        \n",
    "    # Create the white noise with correct covariance\n",
    "    N = np.size(t)      # number of elements\n",
    "    L = cholesky(C, lower=True)  #Cholesky method\n",
    "    w = np.dot(L,np.random.randn(n,N))\n",
    "    \n",
    "    if s2 <= 1e-5: # return white noise\n",
    "        return w\n",
    "    else: \n",
    "        # Create the noise with temporal smoothness\n",
    "        P = toeplitz(np.exp(-t**2/(2*s2)))\n",
    "        F = np.diag(1./np.sqrt(np.diag(np.dot(P.T,P))))\n",
    "        K = np.dot(P,F)\n",
    "        ws = np.dot(w,K)\n",
    "        return ws"
   ]
  },
  {
   "cell_type": "code",
   "execution_count": null,
   "metadata": {},
   "outputs": [],
   "source": [
    "for i = 1:N:\n",
    "    domega = 0.5(1/omega - e^2)"
   ]
  }
 ],
 "metadata": {
  "kernelspec": {
   "display_name": "Affective-AI",
   "language": "python",
   "name": "python3"
  },
  "language_info": {
   "codemirror_mode": {
    "name": "ipython",
    "version": 3
   },
   "file_extension": ".py",
   "mimetype": "text/x-python",
   "name": "python",
   "nbconvert_exporter": "python",
   "pygments_lexer": "ipython3",
   "version": "3.10.11"
  },
  "orig_nbformat": 4
 },
 "nbformat": 4,
 "nbformat_minor": 2
}
