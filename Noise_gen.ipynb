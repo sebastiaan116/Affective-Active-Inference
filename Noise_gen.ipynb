{
 "cells": [
  {
   "cell_type": "code",
   "execution_count": 41,
   "metadata": {},
   "outputs": [
    {
     "name": "stdout",
     "output_type": "stream",
     "text": [
      "Imports done\n"
     ]
    }
   ],
   "source": [
    "# Import the dependencies\n",
    "import numpy as np\n",
    "from scipy.linalg import toeplitz, cholesky, sqrtm, inv\n",
    "# import scipy.linalg as la\n",
    "from scipy import signal\n",
    "from scipy.integrate import odeint\n",
    "import time\n",
    "import matplotlib.pyplot as plt\n",
    "import seaborn as sns\n",
    "sns.set_style(\"white\")\n",
    "print(\"Imports done\")\n",
    "from statistics import mean, variance, pstdev\n"
   ]
  },
  {
   "cell_type": "code",
   "execution_count": 42,
   "metadata": {},
   "outputs": [],
   "source": [
    "# Setting up the time data:\n",
    "dt = 0.005; # integration step, average neuron resets 200 times per second\n",
    "T = 10 + dt; # maximum time considered\n",
    "t = np.arange(0,T,dt)\n",
    "N= t.size #Amount of data points"
   ]
  },
  {
   "cell_type": "code",
   "execution_count": 48,
   "metadata": {},
   "outputs": [],
   "source": [
    "#initate arrays\n",
    "mu_x = np.zeros(N)\n",
    "e_x = np.zeros(N)\n",
    "e_y = np.zeros(N)\n",
    "y =np.zeros(N)\n",
    "x = np.zeros(N)\n",
    "dfmu_x= np.zeros(N)\n",
    "\n",
    "omega_w1 = np.zeros(N)\n",
    "omega_w2 = np.zeros(N)\n",
    "omega_z1 = np.zeros(N)\n",
    "omega_z2 = np.zeros(N)\n",
    "\n",
    "sigma_w1 = np.zeros(N)\n",
    "sigma_w2= np.zeros(N)\n",
    "sigma_z1 = np.zeros(N)\n",
    "sigma_z2= np.zeros(N)\n",
    "std = np.zeros(N)\n",
    "\n",
    "omega_w1[0] = 1\n",
    "omega_w2[0] = 1\n",
    "omega_z1[0] = 1\n",
    "omega_z2[0] = 1\n",
    "\n",
    "mu_v = np.ones(N)*30\n",
    "mu_x[0]= 2\n",
    "x[0] = 25\n",
    "u = 30\n",
    "\n",
    "#noise standard deviations and gain\n",
    "std_noise_x = 1\n",
    "std_noise_y = 0.5\n",
    "alpha = 0.05\n",
    "alpha_mux = 1\n"
   ]
  },
  {
   "cell_type": "code",
   "execution_count": 44,
   "metadata": {},
   "outputs": [],
   "source": [
    "#create D matrix\n",
    "def derivativeD(p):\n",
    "    \n",
    "    D = toeplitz(np.zeros([1,p+1]),np.append(np.array([0,1]),np.zeros([1,p-1])))\n",
    "           \n",
    "    return D\n",
    "\n",
    "\n",
    "D = derivativeD(1)"
   ]
  },
  {
   "cell_type": "code",
   "execution_count": 45,
   "metadata": {},
   "outputs": [],
   "source": [
    "#GM and GP\n",
    "\n",
    "#Generative process functions\n",
    "def f_gp(x, u):\n",
    "    a = -1\n",
    "    # a = 0 \n",
    "    b = 1\n",
    "  \n",
    "    return a*x + b*u\n",
    "\n",
    "def df_gp(x, u):\n",
    "    a = -1\n",
    "    #a = 0\n",
    "    return a\n",
    "\n",
    "\n",
    "\n",
    "def g_gp(x):\n",
    "\n",
    "    t0=25\n",
    "    return t0 -16 / (1 + np.exp(5-x/5))\n",
    "\n",
    "def dg_gp(x):\n",
    "    \n",
    "    return -16/5* np.exp(5-x/5) / (np.exp(5-x/5)+1)**2\n",
    "\n",
    "\n",
    "\n",
    "#generative model functions\n",
    "def f_gm(mu_x, mu_v):\n",
    "    \n",
    "    a = -1 \n",
    "    b = 1\n",
    "    return a*mu_x +b*mu_v\n",
    "\n",
    "\n",
    "def df_gm(mu_x, mu_v):\n",
    "    \n",
    "    a = -1\n",
    "    return a\n",
    "\n",
    "\n",
    "def g_gm(mu_x,mu_v):\n",
    "\n",
    "    t0=25\n",
    "    return t0 -16 / (1 + np.exp(5-mu_x/5))\n",
    "\n",
    "def dg_gm(mu_x,mu_v):\n",
    "    \n",
    "    return -16/5* np.exp(5-mu_x/5) / (np.exp(5-mu_x/5)+1)**2\n"
   ]
  },
  {
   "cell_type": "code",
   "execution_count": 46,
   "metadata": {},
   "outputs": [],
   "source": [
    "#initiate mu_x_tilde, Atilde and I\n",
    "\n",
    "y_tilde = np.zeros((N,2,1))\n",
    "mu_x_tilde = np.zeros((N,2,1))\n",
    "\n",
    "#mu_x_tilde[0] = [[mu_x[0]],[0]] #depending on what model you want to start with\n",
    "mu_x_tilde[0] = [[mu_x[0]],[f_gm(mu_x[0], mu_v[0])]]\n",
    "\n",
    "\n",
    "\n",
    "Atilde = np.identity(2)*(-1)\n",
    "I = np.identity(2)\n"
   ]
  },
  {
   "cell_type": "code",
   "execution_count": 49,
   "metadata": {},
   "outputs": [
    {
     "name": "stderr",
     "output_type": "stream",
     "text": [
      "C:\\Users\\SIDTUDelft\\AppData\\Local\\Temp\\ipykernel_4432\\742846930.py:30: RuntimeWarning: overflow encountered in square\n",
      "  dPI_w = alpha*0.5*(inv(PI_w) - np.diag(eps_x.flatten())**2)\n",
      "C:\\Users\\SIDTUDelft\\AppData\\Local\\Temp\\ipykernel_4432\\742846930.py:13: RuntimeWarning: invalid value encountered in multiply\n",
      "  mu_x_hat = np.array([[1],[0]]) * f_gm(mu_x[i],mu_v[i]) +  np.array([[0],[1]])*df_gm(mu_x[i],mu_v[i])*(mu_x_tilde[i])\n",
      "C:\\Users\\SIDTUDelft\\AppData\\Local\\Temp\\ipykernel_4432\\742846930.py:14: RuntimeWarning: invalid value encountered in multiply\n",
      "  mu_y_hat = np.array([[1],[0]]) * g_gm(mu_x[i],mu_v[i]) +  np.array([[0],[1]])*dg_gm(mu_x[i],mu_v[i])*(mu_x_tilde[i])\n"
     ]
    },
    {
     "ename": "ValueError",
     "evalue": "array must not contain infs or NaNs",
     "output_type": "error",
     "traceback": [
      "\u001b[1;31m---------------------------------------------------------------------------\u001b[0m",
      "\u001b[1;31mValueError\u001b[0m                                Traceback (most recent call last)",
      "\u001b[1;32mc:\\Users\\SIDTUDelft\\Desktop\\Thesis\\Affective-Active-Inference\\Noise_gen.ipynb Cell 7\u001b[0m line \u001b[0;36m3\n\u001b[0;32m     <a href='vscode-notebook-cell:/c%3A/Users/SIDTUDelft/Desktop/Thesis/Affective-Active-Inference/Noise_gen.ipynb#W6sZmlsZQ%3D%3D?line=24'>25</a>\u001b[0m dfmu_x[i\u001b[39m+\u001b[39m\u001b[39m1\u001b[39m] \u001b[39m=\u001b[39m mu_x_tilde[i\u001b[39m+\u001b[39m\u001b[39m1\u001b[39m,\u001b[39m1\u001b[39m]\n\u001b[0;32m     <a href='vscode-notebook-cell:/c%3A/Users/SIDTUDelft/Desktop/Thesis/Affective-Active-Inference/Noise_gen.ipynb#W6sZmlsZQ%3D%3D?line=28'>29</a>\u001b[0m \u001b[39m#precision optimization\u001b[39;00m\n\u001b[1;32m---> <a href='vscode-notebook-cell:/c%3A/Users/SIDTUDelft/Desktop/Thesis/Affective-Active-Inference/Noise_gen.ipynb#W6sZmlsZQ%3D%3D?line=29'>30</a>\u001b[0m dPI_w \u001b[39m=\u001b[39m alpha\u001b[39m*\u001b[39m\u001b[39m0.5\u001b[39m\u001b[39m*\u001b[39m(inv(PI_w) \u001b[39m-\u001b[39m np\u001b[39m.\u001b[39mdiag(eps_x\u001b[39m.\u001b[39mflatten())\u001b[39m*\u001b[39m\u001b[39m*\u001b[39m\u001b[39m2\u001b[39m)\n\u001b[0;32m     <a href='vscode-notebook-cell:/c%3A/Users/SIDTUDelft/Desktop/Thesis/Affective-Active-Inference/Noise_gen.ipynb#W6sZmlsZQ%3D%3D?line=30'>31</a>\u001b[0m dPI_z \u001b[39m=\u001b[39m alpha\u001b[39m*\u001b[39m\u001b[39m0.5\u001b[39m\u001b[39m*\u001b[39m(inv(PI_z) \u001b[39m-\u001b[39m np\u001b[39m.\u001b[39mdiag(eps_y\u001b[39m.\u001b[39mflatten())\u001b[39m*\u001b[39m\u001b[39m*\u001b[39m\u001b[39m2\u001b[39m)\n\u001b[0;32m     <a href='vscode-notebook-cell:/c%3A/Users/SIDTUDelft/Desktop/Thesis/Affective-Active-Inference/Noise_gen.ipynb#W6sZmlsZQ%3D%3D?line=31'>32</a>\u001b[0m PI_w \u001b[39m=\u001b[39m PI_w \u001b[39m+\u001b[39m dt\u001b[39m*\u001b[39mdPI_w\n",
      "File \u001b[1;32mc:\\Users\\SIDTUDelft\\anaconda3\\envs\\Affective-AI\\lib\\site-packages\\scipy\\linalg\\_basic.py:946\u001b[0m, in \u001b[0;36minv\u001b[1;34m(a, overwrite_a, check_finite)\u001b[0m\n\u001b[0;32m    906\u001b[0m \u001b[39mdef\u001b[39;00m \u001b[39minv\u001b[39m(a, overwrite_a\u001b[39m=\u001b[39m\u001b[39mFalse\u001b[39;00m, check_finite\u001b[39m=\u001b[39m\u001b[39mTrue\u001b[39;00m):\n\u001b[0;32m    907\u001b[0m \u001b[39m    \u001b[39m\u001b[39m\"\"\"\u001b[39;00m\n\u001b[0;32m    908\u001b[0m \u001b[39m    Compute the inverse of a matrix.\u001b[39;00m\n\u001b[0;32m    909\u001b[0m \n\u001b[1;32m   (...)\u001b[0m\n\u001b[0;32m    944\u001b[0m \n\u001b[0;32m    945\u001b[0m \u001b[39m    \"\"\"\u001b[39;00m\n\u001b[1;32m--> 946\u001b[0m     a1 \u001b[39m=\u001b[39m _asarray_validated(a, check_finite\u001b[39m=\u001b[39;49mcheck_finite)\n\u001b[0;32m    947\u001b[0m     \u001b[39mif\u001b[39;00m \u001b[39mlen\u001b[39m(a1\u001b[39m.\u001b[39mshape) \u001b[39m!=\u001b[39m \u001b[39m2\u001b[39m \u001b[39mor\u001b[39;00m a1\u001b[39m.\u001b[39mshape[\u001b[39m0\u001b[39m] \u001b[39m!=\u001b[39m a1\u001b[39m.\u001b[39mshape[\u001b[39m1\u001b[39m]:\n\u001b[0;32m    948\u001b[0m         \u001b[39mraise\u001b[39;00m \u001b[39mValueError\u001b[39;00m(\u001b[39m'\u001b[39m\u001b[39mexpected square matrix\u001b[39m\u001b[39m'\u001b[39m)\n",
      "File \u001b[1;32mc:\\Users\\SIDTUDelft\\anaconda3\\envs\\Affective-AI\\lib\\site-packages\\scipy\\_lib\\_util.py:252\u001b[0m, in \u001b[0;36m_asarray_validated\u001b[1;34m(a, check_finite, sparse_ok, objects_ok, mask_ok, as_inexact)\u001b[0m\n\u001b[0;32m    250\u001b[0m         \u001b[39mraise\u001b[39;00m \u001b[39mValueError\u001b[39;00m(\u001b[39m'\u001b[39m\u001b[39mmasked arrays are not supported\u001b[39m\u001b[39m'\u001b[39m)\n\u001b[0;32m    251\u001b[0m toarray \u001b[39m=\u001b[39m np\u001b[39m.\u001b[39masarray_chkfinite \u001b[39mif\u001b[39;00m check_finite \u001b[39melse\u001b[39;00m np\u001b[39m.\u001b[39masarray\n\u001b[1;32m--> 252\u001b[0m a \u001b[39m=\u001b[39m toarray(a)\n\u001b[0;32m    253\u001b[0m \u001b[39mif\u001b[39;00m \u001b[39mnot\u001b[39;00m objects_ok:\n\u001b[0;32m    254\u001b[0m     \u001b[39mif\u001b[39;00m a\u001b[39m.\u001b[39mdtype \u001b[39mis\u001b[39;00m np\u001b[39m.\u001b[39mdtype(\u001b[39m'\u001b[39m\u001b[39mO\u001b[39m\u001b[39m'\u001b[39m):\n",
      "File \u001b[1;32mc:\\Users\\SIDTUDelft\\anaconda3\\envs\\Affective-AI\\lib\\site-packages\\numpy\\lib\\function_base.py:628\u001b[0m, in \u001b[0;36masarray_chkfinite\u001b[1;34m(a, dtype, order)\u001b[0m\n\u001b[0;32m    626\u001b[0m a \u001b[39m=\u001b[39m asarray(a, dtype\u001b[39m=\u001b[39mdtype, order\u001b[39m=\u001b[39morder)\n\u001b[0;32m    627\u001b[0m \u001b[39mif\u001b[39;00m a\u001b[39m.\u001b[39mdtype\u001b[39m.\u001b[39mchar \u001b[39min\u001b[39;00m typecodes[\u001b[39m'\u001b[39m\u001b[39mAllFloat\u001b[39m\u001b[39m'\u001b[39m] \u001b[39mand\u001b[39;00m \u001b[39mnot\u001b[39;00m np\u001b[39m.\u001b[39misfinite(a)\u001b[39m.\u001b[39mall():\n\u001b[1;32m--> 628\u001b[0m     \u001b[39mraise\u001b[39;00m \u001b[39mValueError\u001b[39;00m(\n\u001b[0;32m    629\u001b[0m         \u001b[39m\"\u001b[39m\u001b[39marray must not contain infs or NaNs\u001b[39m\u001b[39m\"\u001b[39m)\n\u001b[0;32m    630\u001b[0m \u001b[39mreturn\u001b[39;00m a\n",
      "\u001b[1;31mValueError\u001b[0m: array must not contain infs or NaNs"
     ]
    }
   ],
   "source": [
    "for i in np.arange(0,N-1):\n",
    "\n",
    "    #generative process\n",
    "    x_dot = f_gp(x[i],u)\n",
    "    x[i+1] = x[i] + dt*x_dot\n",
    "    y_tilde[i] = [[g_gp(x[i])],[dg_gp(x[i])*f_gp(x[i],u)]]\n",
    "\n",
    "\n",
    "    # Generative model\n",
    "    PI_w = np.diag([omega_w1[i],omega_w2[i]])\n",
    "    PI_z = np.diag([omega_z1[i],omega_z2[i]])\n",
    "                             \n",
    "    mu_x_hat = np.array([[1],[0]]) * f_gm(mu_x[i],mu_v[i]) +  np.array([[0],[1]])*df_gm(mu_x[i],mu_v[i])*(mu_x_tilde[i])\n",
    "    mu_y_hat = np.array([[1],[0]]) * g_gm(mu_x[i],mu_v[i]) +  np.array([[0],[1]])*dg_gm(mu_x[i],mu_v[i])*(mu_x_tilde[i])\n",
    "    \n",
    "    eps_x = D.dot(mu_x_tilde[i])-mu_x_hat#+ np.random.randn(1)*std_noise_x\n",
    "    eps_y = y_tilde[i] - mu_y_hat #+ np.random.randn(1)*std_noise_y\n",
    "\n",
    "    #  optimization hidden state\n",
    "    dFdmu_x = (D-Atilde).T.dot(PI_w).dot(eps_x) - (dg_gm(mu_x[i],mu_v[i]) * I ).T.dot(PI_z).dot(eps_y)\n",
    "    dmu_x = np.dot(D,mu_x_tilde[i]) - alpha_mux*dFdmu_x #evt alpha toevoegen\n",
    "    mu_x_tilde[i+1] = mu_x_tilde[i]+ dt*dmu_x\n",
    "    mu_x[i+1] = mu_x_tilde[i+1,0] #use this for plotting\n",
    "\n",
    "    dfmu_x[i+1] = mu_x_tilde[i+1,1]\n",
    "\n",
    "    \n",
    "   \n",
    "    #precision optimization\n",
    "    dPI_w = alpha*0.5*(inv(PI_w) - np.diag(eps_x.flatten())**2)\n",
    "    dPI_z = alpha*0.5*(inv(PI_z) - np.diag(eps_y.flatten())**2)\n",
    "    PI_w = PI_w + dt*dPI_w\n",
    "    PI_z = PI_z + dt*dPI_z\n",
    "\n",
    "    omega_w1[i+1] = PI_w[0,0]\n",
    "    omega_w2[i+1] = PI_w[1,1]\n",
    "    omega_z1[i+1] = PI_z[0,0]\n",
    "    omega_z2[i+1] = PI_z[1,1]\n",
    "    \n",
    "    sigma_w1[i+1] = 1/omega_w1[i+1]\n",
    "    sigma_w2[i+1] = 1/omega_w2[i+1]\n",
    "    sigma_z1[i+1] = 1/omega_z1[i+1] \n",
    "    sigma_z2[i+1] = 1/omega_z2[i+1]\n"
   ]
  },
  {
   "cell_type": "code",
   "execution_count": null,
   "metadata": {},
   "outputs": [
    {
     "name": "stdout",
     "output_type": "stream",
     "text": [
      "[[[17.]\n",
      "  [-0.]]\n",
      "\n",
      " [[17.]\n",
      "  [-0.]]\n",
      "\n",
      " [[17.]\n",
      "  [-0.]]\n",
      "\n",
      " ...\n",
      "\n",
      " [[17.]\n",
      "  [-0.]]\n",
      "\n",
      " [[17.]\n",
      "  [-0.]]\n",
      "\n",
      " [[ 0.]\n",
      "  [ 0.]]]\n"
     ]
    }
   ],
   "source": [
    "print(y_tilde)"
   ]
  },
  {
   "cell_type": "code",
   "execution_count": null,
   "metadata": {},
   "outputs": [
    {
     "data": {
      "text/plain": [
       "<matplotlib.legend.Legend at 0x193ced5b6d0>"
      ]
     },
     "execution_count": 40,
     "metadata": {},
     "output_type": "execute_result"
    },
    {
     "data": {
      "image/png": "[encoded data removed]",
      "text/plain": [
       "<Figure size 640x480 with 1 Axes>"
      ]
     },
     "metadata": {},
     "output_type": "display_data"
    },
    {
     "data": {
      "image/png": "[encoded data removed]",
      "text/plain": [
       "<Figure size 640x480 with 1 Axes>"
      ]
     },
     "metadata": {},
     "output_type": "display_data"
    }
   ],
   "source": [
    "plt.figure()\n",
    "plt.plot(t,mu_x)\n",
    "plt.plot(t,x)\n",
    "\n",
    "\n",
    "plt.figure()\n",
    "plt.plot(t,sigma_w1, label = \"sigma_w1\")\n",
    "plt.plot(t,sigma_w2, label = \"sigma_w2\")\n",
    "plt.plot(t,sigma_z1, label = \"sigma_z1\")\n",
    "plt.plot(t,sigma_z2, label = \"sigma_z2\")\n",
    "plt.legend()\n",
    "\n"
   ]
  }
 ],
 "metadata": {
  "kernelspec": {
   "display_name": "Affective-AI",
   "language": "python",
   "name": "python3"
  },
  "language_info": {
   "codemirror_mode": {
    "name": "ipython",
    "version": 3
   },
   "file_extension": ".py",
   "mimetype": "text/x-python",
   "name": "python",
   "nbconvert_exporter": "python",
   "pygments_lexer": "ipython3",
   "version": "3.10.11"
  },
  "orig_nbformat": 4
 },
 "nbformat": 4,
 "nbformat_minor": 2
}
