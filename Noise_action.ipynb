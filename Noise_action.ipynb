{
 "cells": [
  {
   "cell_type": "code",
   "execution_count": 1,
   "metadata": {},
   "outputs": [
    {
     "name": "stdout",
     "output_type": "stream",
     "text": [
      "Imports done\n"
     ]
    }
   ],
   "source": [
    "# Import the dependencies\n",
    "import numpy as np\n",
    "from scipy.linalg import toeplitz, cholesky, sqrtm, inv\n",
    "# import scipy.linalg as la\n",
    "from scipy import signal\n",
    "from scipy.integrate import odeint\n",
    "import time\n",
    "import matplotlib.pyplot as plt\n",
    "import seaborn as sns\n",
    "sns.set_style(\"white\")\n",
    "print(\"Imports done\")\n",
    "from statistics import mean, variance, pstdev\n"
   ]
  },
  {
   "cell_type": "code",
   "execution_count": 2,
   "metadata": {},
   "outputs": [],
   "source": [
    "# Setting up the time data:\n",
    "dt = 0.005; # integration step, average neuron resets 200 times per second\n",
    "T = 50+ dt; # maximum time considered\n",
    "t = np.arange(0,T,dt)\n",
    "N= t.size #Amount of data points"
   ]
  },
  {
   "cell_type": "code",
   "execution_count": 8,
   "metadata": {},
   "outputs": [],
   "source": [
    "#initate arrays\n",
    "mu_x = np.zeros(N)\n",
    "e_x = np.zeros(N)\n",
    "e_y = np.zeros(N)\n",
    "y =np.zeros(N)\n",
    "x = np.zeros(N)\n",
    "dfmu_x= np.zeros(N)\n",
    "u = np.zeros(N)\n",
    "\n",
    "omega_w1 = np.zeros(N)\n",
    "omega_w2 = np.zeros(N)\n",
    "omega_z1 = np.zeros(N)\n",
    "omega_z2 = np.zeros(N)\n",
    "\n",
    "sigma_w1 = np.zeros(N)\n",
    "sigma_w2= np.zeros(N)\n",
    "sigma_z1 = np.zeros(N)\n",
    "sigma_z2= np.zeros(N)\n",
    "std = np.zeros(N)\n",
    "\n",
    "omega_w1[0] = 1\n",
    "omega_w2[0] = 1\n",
    "omega_z1[0] = 1\n",
    "omega_z2[0] = 1\n",
    "\n",
    "mu_v = np.ones(N)*g_gp_A(25)\n",
    "mu_x[0]= 25\n",
    "x[0] = 30\n",
    "u[0] = 0\n",
    "\n",
    "#noise standard deviations and gain\n",
    "std_noise_x = 0.5\n",
    "std_noise_y = 1\n",
    "\n",
    "alpha = 0.1\n",
    "alpha_mux = 3\n",
    "alpha_u = 10\n"
   ]
  },
  {
   "cell_type": "code",
   "execution_count": 9,
   "metadata": {},
   "outputs": [
    {
     "name": "stdout",
     "output_type": "stream",
     "text": [
      "[17. 17. 17. ... 17. 17. 17.]\n"
     ]
    }
   ],
   "source": [
    "print(mu_v)"
   ]
  },
  {
   "cell_type": "code",
   "execution_count": 4,
   "metadata": {},
   "outputs": [],
   "source": [
    "#create D matrix\n",
    "def derivativeD(p):\n",
    "    \n",
    "    D = toeplitz(np.zeros([1,p+1]),np.append(np.array([0,1]),np.zeros([1,p-1])))\n",
    "           \n",
    "    return D\n",
    "\n",
    "\n",
    "D = derivativeD(1)"
   ]
  },
  {
   "cell_type": "code",
   "execution_count": 5,
   "metadata": {},
   "outputs": [],
   "source": [
    "#GM and GP\n",
    "\n",
    "#Generative process functions\n",
    "def f_gp(x, u):\n",
    "    #a = -1\n",
    "    a = 0 \n",
    "    b = 1\n",
    "  \n",
    "    return a*x + b*u \n",
    "def df_gp(x, u):\n",
    "    a = -1\n",
    "    #a = 0\n",
    "    return a\n",
    "\n",
    "\n",
    "\n",
    "def g_gp_A(x):\n",
    "\n",
    "    t0=25\n",
    "    return t0 -16 / (1 + np.exp(5-x/5))\n",
    "\n",
    "def dg_gp_A(x):\n",
    "    \n",
    "    return -16/5* np.exp(5-x/5) / (np.exp(5-x/5)+1)**2\n",
    "\n",
    "\n",
    "def g_gp_B(x):\n",
    "\n",
    "    return 0.01*x*1*9.81\n",
    "\n",
    "def dg_gp_B(x):\n",
    "\n",
    "    return 0.01*1*9.81\n",
    "\n",
    "#generative model functions\n",
    "def f_gm(mu_x, mu_v):\n",
    "    \n",
    "    a = -1 \n",
    "    b = 1\n",
    "    return a*mu_x +b*mu_v\n",
    "\n",
    "\n",
    "def df_gm(mu_x, mu_v):\n",
    "    \n",
    "    a = -1\n",
    "    return a\n",
    "\n",
    "\n",
    "def g_gm_A(mu_x,mu_v):\n",
    "\n",
    "    t0=25\n",
    "    return t0 -16 / (1 + np.exp(5-mu_x/5))\n",
    "\n",
    "def dg_gm_A(mu_x,mu_v):\n",
    "    \n",
    "    return -16/5* np.exp(5-mu_x/5) / (np.exp(5-mu_x/5)+1)**2\n",
    "\n",
    "\n",
    "def g_gm_B(mu_x, mu_v):\n",
    "\n",
    "    return 0.01*mu_x*1*9.81\n",
    "\n",
    "def dg_gm_B(mu_x, mu_v):\n",
    "\n",
    "    return 0.01*1*9.81\n",
    "\n"
   ]
  },
  {
   "cell_type": "code",
   "execution_count": 6,
   "metadata": {},
   "outputs": [],
   "source": [
    "#initiate mu_x_tilde, Atilde and I\n",
    "\n",
    "yA_tilde = np.zeros((N,2,1))\n",
    "yB_tilde = np.zeros((N,2,1))\n",
    "\n",
    "mu_x_tilde = np.zeros((N,2,1))\n",
    "\n",
    "#mu_x_tilde[0] = [[mu_x[0]],[0]] #depending on what model you want to start with\n",
    "mu_x_tilde[0] = [[mu_x[0]],[f_gm(mu_x[0], mu_v[0])]]\n",
    "\n",
    "\n",
    "\n",
    "Atilde = np.identity(2)*(-1)\n",
    "I = np.identity(2)\n"
   ]
  },
  {
   "cell_type": "code",
   "execution_count": 7,
   "metadata": {},
   "outputs": [
    {
     "ename": "NameError",
     "evalue": "name 'eps_y' is not defined",
     "output_type": "error",
     "traceback": [
      "\u001b[1;31m---------------------------------------------------------------------------\u001b[0m",
      "\u001b[1;31mNameError\u001b[0m                                 Traceback (most recent call last)",
      "\u001b[1;32mc:\\Users\\SIDTUDelft\\Desktop\\Thesis\\Affective-Active-Inference\\Noise_action.ipynb Cell 7\u001b[0m line \u001b[0;36m5\n\u001b[0;32m     <a href='vscode-notebook-cell:/c%3A/Users/SIDTUDelft/Desktop/Thesis/Affective-Active-Inference/Noise_action.ipynb#W6sZmlsZQ%3D%3D?line=46'>47</a>\u001b[0m u[i\u001b[39m+\u001b[39m\u001b[39m1\u001b[39m] \u001b[39m=\u001b[39m u[i] \u001b[39m+\u001b[39m alpha_u\u001b[39m*\u001b[39mdt\u001b[39m*\u001b[39mu_dot\n\u001b[0;32m     <a href='vscode-notebook-cell:/c%3A/Users/SIDTUDelft/Desktop/Thesis/Affective-Active-Inference/Noise_action.ipynb#W6sZmlsZQ%3D%3D?line=50'>51</a>\u001b[0m \u001b[39m# #precision optimization\u001b[39;00m\n\u001b[0;32m     <a href='vscode-notebook-cell:/c%3A/Users/SIDTUDelft/Desktop/Thesis/Affective-Active-Inference/Noise_action.ipynb#W6sZmlsZQ%3D%3D?line=51'>52</a>\u001b[0m \u001b[39m# dPI_w = alpha*0.5*(inv(PI_w) - np.diag(eps_x.flatten())**2)\u001b[39;00m\n\u001b[1;32m---> <a href='vscode-notebook-cell:/c%3A/Users/SIDTUDelft/Desktop/Thesis/Affective-Active-Inference/Noise_action.ipynb#W6sZmlsZQ%3D%3D?line=52'>53</a>\u001b[0m dPI_z \u001b[39m=\u001b[39m alpha\u001b[39m*\u001b[39m\u001b[39m0.5\u001b[39m\u001b[39m*\u001b[39m(inv(PI_z) \u001b[39m-\u001b[39m np\u001b[39m.\u001b[39mdiag(eps_y\u001b[39m.\u001b[39mflatten())\u001b[39m*\u001b[39m\u001b[39m*\u001b[39m\u001b[39m2\u001b[39m)\n\u001b[0;32m     <a href='vscode-notebook-cell:/c%3A/Users/SIDTUDelft/Desktop/Thesis/Affective-Active-Inference/Noise_action.ipynb#W6sZmlsZQ%3D%3D?line=53'>54</a>\u001b[0m \u001b[39m# PI_w = PI_w + dt*dPI_w\u001b[39;00m\n\u001b[0;32m     <a href='vscode-notebook-cell:/c%3A/Users/SIDTUDelft/Desktop/Thesis/Affective-Active-Inference/Noise_action.ipynb#W6sZmlsZQ%3D%3D?line=54'>55</a>\u001b[0m PI_z \u001b[39m=\u001b[39m PI_z \u001b[39m+\u001b[39m dt\u001b[39m*\u001b[39mdPI_z\n",
      "\u001b[1;31mNameError\u001b[0m: name 'eps_y' is not defined"
     ]
    }
   ],
   "source": [
    "for i in np.arange(0,N-1):\n",
    "\n",
    "    x_dot = f_gp(x[i],u[i])  #+ np.random.randn(1)*std_noise_x\n",
    "    x[i+1] = x[i] + dt*x_dot\n",
    "    \n",
    "    yA = g_gp_A(x[i])                   + np.random.randn(1)*std_noise_y# *np.sin(10*1/N*i)  \n",
    "    yAdot = dg_gp_A(x[i])*f_gp(x[i],u[i])  \n",
    "    yA_tilde[i] = [yA,[yAdot]]\n",
    "\n",
    "\n",
    "    yB = g_gp_B(x[i])                   + np.random.randn(1)*std_noise_y# *np.sin(10*1/N*i)  \n",
    "    yBdot = dg_gp_B(x[i])*f_gp(x[i],u[i])  \n",
    "    yB_tilde[i] = [yB,[yBdot]]\n",
    "\n",
    "\n",
    "\n",
    "\n",
    "    # # Generative model\n",
    "    PI_w = np.diag([1,0.1])\n",
    "    PI_z = np.diag([omega_z1[i],1])\n",
    "                             \n",
    "    mu_x_hat = np.array([[1],[0]]) * f_gm(mu_x[i],mu_v[i]) +  np.array([[0],[1]])*df_gm(mu_x[i],mu_v[i])*(mu_x_tilde[i])\n",
    "   # mu_y_hat_A = np.array([[1],[0]]) * g_gm_A(mu_x[i],mu_v[i]) +  np.array([[0],[1]])*dg_gm_A(mu_x[i],mu_v[i])*(mu_x_tilde[i])\n",
    "  #  mu_y_hat_B = np.array([[1],[0]]) * g_gm_B(mu_x[i],mu_v[i]) +  np.array([[0],[1]])*dg_gm_B(mu_x[i],mu_v[i])*(mu_x_tilde[i])\n",
    "    mu_y_hat_A = np.array([[1],[0]]) * mu_x[i] +  np.array([[0],[1]])*dg_gm_A(mu_x[i],mu_v[i])*(mu_x_tilde[i])\n",
    "\n",
    "    \n",
    "    #print(mu_x_hat)\n",
    "    #print(mu_y_hat_A)\n",
    "\n",
    "    eps_x = D.dot(mu_x_tilde[i])-mu_x_hat #+ np.random.randn(1)*std_noise_x\n",
    "    eps_yA = yA_tilde[i] - mu_y_hat_A  \n",
    "    eps_yB = yB_tilde[i] - mu_y_hat_B  \n",
    "    \n",
    "    #  optimization hidden state\n",
    "    dFdmu_x = (D-Atilde).T.dot(PI_w).dot(eps_x) - (dg_gm_A(mu_x[i],mu_v[i]) * I ).T.dot(PI_z).dot(eps_yA) #- (dg_gm_B(mu_x[i],mu_v[i]) * I ).T.dot(PI_z).dot(eps_yB)\n",
    "\n",
    "    dmu_x = np.dot(D,mu_x_tilde[i]) - alpha_mux*dFdmu_x #evt alpha toevoegen\n",
    "    mu_x_tilde[i+1] = mu_x_tilde[i]+ dt*dmu_x\n",
    "    \n",
    "    \n",
    "    mu_x[i+1] = mu_x_tilde[i+1,0] #use this for plotting\n",
    "    dfmu_x[i+1] = mu_x_tilde[i+1,1]\n",
    "\n",
    "        \n",
    "        \n",
    "    \n",
    "    #optimizing action\n",
    "    u_dot = -np.array([0,dg_gp_A(x[i])]).dot(PI_z).dot(eps_yA)  #-np.array([0,dg_gp_A(x[i])]).dot(PI_z).dot(eps_yB)  #dy du simplified because b = 1\n",
    "    u[i+1] = u[i] + alpha_u*dt*u_dot\n",
    "\n",
    "    \n",
    "\n",
    "    # #precision optimization\n",
    "    # dPI_w = alpha*0.5*(inv(PI_w) - np.diag(eps_x.flatten())**2)\n",
    "    dPI_z = alpha*0.5*(inv(PI_z) - np.diag(eps_y.flatten())**2)\n",
    "    # PI_w = PI_w + dt*dPI_w\n",
    "    PI_z = PI_z + dt*dPI_z\n",
    "\n",
    "    omega_w1[i+1] = PI_w[0,0]\n",
    "    omega_w2[i+1] = PI_w[1,1]\n",
    "    omega_z1[i+1] = PI_z[0,0]\n",
    "    omega_z2[i+1] = PI_z[1,1]\n",
    "    \n",
    "    sigma_w1[i+1] = 1/omega_w1[i+1]\n",
    "    sigma_w2[i+1] = 1/omega_w2[i+1]\n",
    "    sigma_z1[i+1] = 1/omega_z1[i+1] \n",
    "    sigma_z2[i+1] = 1/omega_z2[i+1]\n"
   ]
  },
  {
   "cell_type": "code",
   "execution_count": null,
   "metadata": {},
   "outputs": [
    {
     "data": {
      "text/plain": [
       "<matplotlib.legend.Legend at 0x2964ad16470>"
      ]
     },
     "execution_count": 70,
     "metadata": {},
     "output_type": "execute_result"
    },
    {
     "data": {
      "image/png": "[encoded data removed]",
      "text/plain": [
       "<Figure size 640x480 with 1 Axes>"
      ]
     },
     "metadata": {},
     "output_type": "display_data"
    },
    {
     "data": {
      "image/png": "[encoded data removed]",
      "text/plain": [
       "<Figure size 640x480 with 1 Axes>"
      ]
     },
     "metadata": {},
     "output_type": "display_data"
    }
   ],
   "source": [
    "plt.figure()\n",
    "plt.plot(t,x, label = \"x\")\n",
    "plt.plot(t,mu_x, label = \"mu_x\")\n",
    "plt.legend()\n",
    "\n",
    "# plt.figure()\n",
    "# plt.plot(t,dfmu_x)\n",
    "\n",
    "plt.figure()\n",
    "plt.plot(t,sigma_w1, label = \"sigma_w1\")\n",
    "# plt.plot(t,sigma_w2, label = \"sigma_w2\")\n",
    "plt.plot(t,sigma_z1, label = \"sigma_z1\")\n",
    "#plt.plot(t,sigma_z2, label = \"sigma_z2\")\n",
    "plt.legend()\n",
    "\n"
   ]
  }
 ],
 "metadata": {
  "kernelspec": {
   "display_name": "Affective-AI",
   "language": "python",
   "name": "python3"
  },
  "language_info": {
   "codemirror_mode": {
    "name": "ipython",
    "version": 3
   },
   "file_extension": ".py",
   "mimetype": "text/x-python",
   "name": "python",
   "nbconvert_exporter": "python",
   "pygments_lexer": "ipython3",
   "version": "3.10.11"
  },
  "orig_nbformat": 4
 },
 "nbformat": 4,
 "nbformat_minor": 2
}
