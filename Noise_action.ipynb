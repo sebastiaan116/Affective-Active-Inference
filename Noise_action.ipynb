{
 "cells": [
  {
   "cell_type": "code",
   "execution_count": 32,
   "metadata": {},
   "outputs": [
    {
     "name": "stdout",
     "output_type": "stream",
     "text": [
      "Imports done\n"
     ]
    }
   ],
   "source": [
    "# Import the dependencies\n",
    "import numpy as np\n",
    "from scipy.linalg import toeplitz, cholesky, sqrtm, inv\n",
    "# import scipy.linalg as la\n",
    "from scipy import signal\n",
    "from scipy.integrate import odeint\n",
    "import time\n",
    "import matplotlib.pyplot as plt\n",
    "import seaborn as sns\n",
    "sns.set_style(\"white\")\n",
    "print(\"Imports done\")\n",
    "from statistics import mean, variance, pstdev\n"
   ]
  },
  {
   "cell_type": "code",
   "execution_count": 33,
   "metadata": {},
   "outputs": [],
   "source": [
    "# Setting up the time data:\n",
    "dt = 0.005; # integration step, average neuron resets 200 times per second\n",
    "T = 10+ dt; # maximum time considered\n",
    "t = np.arange(0,T,dt)\n",
    "N= t.size #Amount of data points"
   ]
  },
  {
   "cell_type": "code",
   "execution_count": 34,
   "metadata": {},
   "outputs": [],
   "source": [
    "#initate arrays\n",
    "mu_x = np.zeros(N)\n",
    "e_x = np.zeros(N)\n",
    "e_y = np.zeros(N)\n",
    "y =np.zeros(N)\n",
    "x = np.zeros(N)\n",
    "dfmu_x= np.zeros(N)\n",
    "u = np.zeros(N)\n",
    "\n",
    "omega_w1 = np.zeros(N)\n",
    "omega_w2 = np.zeros(N)\n",
    "omega_z1 = np.zeros(N)\n",
    "omega_z2 = np.zeros(N)\n",
    "\n",
    "sigma_w1 = np.zeros(N)\n",
    "sigma_w2= np.zeros(N)\n",
    "sigma_z1 = np.zeros(N)\n",
    "sigma_z2= np.zeros(N)\n",
    "std = np.zeros(N)\n",
    "\n",
    "omega_w1[0] = 1\n",
    "omega_w2[0] = 1\n",
    "omega_z1[0] = 1\n",
    "omega_z2[0] = 1\n",
    "\n",
    "mu_v = np.ones(N)*25\n",
    "mu_x[0]= 25\n",
    "x[0] = 30\n",
    "u[0] = 0\n",
    "\n",
    "#noise standard deviations and gain\n",
    "std_noise_x = 0.5\n",
    "std_noise_y = 1\n",
    "\n",
    "alpha = 1\n",
    "alpha_mux = 1\n",
    "alpha_u = 1\n"
   ]
  },
  {
   "cell_type": "code",
   "execution_count": 35,
   "metadata": {},
   "outputs": [],
   "source": [
    "#create D matrix\n",
    "def derivativeD(p):\n",
    "    \n",
    "    D = toeplitz(np.zeros([1,p+1]),np.append(np.array([0,1]),np.zeros([1,p-1])))\n",
    "           \n",
    "    return D\n",
    "\n",
    "\n",
    "D = derivativeD(1)"
   ]
  },
  {
   "cell_type": "code",
   "execution_count": 36,
   "metadata": {},
   "outputs": [],
   "source": [
    "#GM and GP\n",
    "\n",
    "#Generative process functions\n",
    "def f_gp(x, u):\n",
    "    #a = -1\n",
    "    a = 0 \n",
    "    b = 1\n",
    "  \n",
    "    return a*x + b*u \n",
    "def df_gp(x, u):\n",
    "    a = -1\n",
    "    #a = 0\n",
    "    return a\n",
    "\n",
    "\n",
    "\n",
    "def g_gp(x):\n",
    "\n",
    "    t0=25\n",
    "    return t0 -16 / (1 + np.exp(5-x/5))\n",
    "\n",
    "def dg_gp(x):\n",
    "    \n",
    "    return -16/5* np.exp(5-x/5) / (np.exp(5-x/5)+1)**2\n",
    "\n",
    "\n",
    "\n",
    "#generative model functions\n",
    "def f_gm(mu_x, mu_v):\n",
    "    \n",
    "    a = -1 \n",
    "    b = 1\n",
    "    return a*mu_x +b*mu_v\n",
    "\n",
    "\n",
    "def df_gm(mu_x, mu_v):\n",
    "    \n",
    "    a = -1\n",
    "    return a\n",
    "\n",
    "\n",
    "def g_gm(mu_x,mu_v):\n",
    "\n",
    "    t0=25\n",
    "    return t0 -16 / (1 + np.exp(5-mu_x/5))\n",
    "\n",
    "def dg_gm(mu_x,mu_v):\n",
    "    \n",
    "    return -16/5* np.exp(5-mu_x/5) / (np.exp(5-mu_x/5)+1)**2\n"
   ]
  },
  {
   "cell_type": "code",
   "execution_count": 37,
   "metadata": {},
   "outputs": [],
   "source": [
    "#initiate mu_x_tilde, Atilde and I\n",
    "\n",
    "y_tilde = np.zeros((N,2,1))\n",
    "mu_x_tilde = np.zeros((N,2,1))\n",
    "\n",
    "#mu_x_tilde[0] = [[mu_x[0]],[0]] #depending on what model you want to start with\n",
    "mu_x_tilde[0] = [[mu_x[0]],[f_gm(mu_x[0], mu_v[0])]]\n",
    "\n",
    "\n",
    "\n",
    "Atilde = np.identity(2)*(-1)\n",
    "I = np.identity(2)\n"
   ]
  },
  {
   "cell_type": "code",
   "execution_count": 38,
   "metadata": {},
   "outputs": [],
   "source": [
    "for i in np.arange(0,N-1):\n",
    "\n",
    "    x_dot = f_gp(x[i],u[i])  #+ np.random.randn(1)*std_noise_x\n",
    "    x[i+1] = x[i] + dt*x_dot\n",
    "    \n",
    "    y = g_gp(x[i])                   #  + np.random.randn(1)*std_noise_y*np.sin(10*1/N*i)  \n",
    "    ydot = dg_gp(x[i])*f_gp(x[i],u[i])  \n",
    "    y_tilde[i] = [[y],[ydot]]\n",
    "\n",
    "\n",
    "    PI_w = np.diag([10,10])\n",
    "    PI_z = np.diag([10,10])\n",
    "\n",
    "    # # Generative model\n",
    "    # PI_w = np.diag([omega_w1[i],omega_w2[i]])\n",
    "    # PI_z = np.diag([omega_z1[i],omega_z2[i]])\n",
    "                             \n",
    "    mu_x_hat = np.array([[1],[0]]) * f_gm(mu_x[i],mu_v[i]) +  np.array([[0],[1]])*df_gm(mu_x[i],mu_v[i])*(mu_x_tilde[i])\n",
    "    mu_y_hat = np.array([[1],[0]]) * g_gm(mu_x[i],mu_v[i]) +  np.array([[0],[1]])*dg_gm(mu_x[i],mu_v[i])*(mu_x_tilde[i])\n",
    "    #print(mu_x_hat)\n",
    "    #print(mu_y_hat)\n",
    "\n",
    "    eps_x = D.dot(mu_x_tilde[i])-mu_x_hat #+ np.random.randn(1)*std_noise_x\n",
    "    eps_y = y_tilde[i] - mu_y_hat  \n",
    "    #  optimization hidden state\n",
    "    dFdmu_x = (D-Atilde).T.dot(PI_w).dot(eps_x) - (dg_gm(mu_x[i],mu_v[i]) * I ).T.dot(PI_z).dot(eps_y)\n",
    "    dmu_x = np.dot(D,mu_x_tilde[i]) - alpha_mux*dFdmu_x #evt alpha toevoegen\n",
    "    mu_x_tilde[i+1] = mu_x_tilde[i]+ dt*dmu_x\n",
    "    mu_x[i+1] = mu_x_tilde[i+1,0] #use this for plotting\n",
    "    dfmu_x[i+1] = mu_x_tilde[i+1,1]\n",
    "\n",
    "        \n",
    "        \n",
    "    if i > 0.2*N:    \n",
    "        #optimizing action\n",
    "        u_dot = -np.array([0,dg_gp(x[i])]).dot(PI_z).dot(eps_y) #dy du simplified because b = 1\n",
    "        u[i+1] = u[i] + alpha_u*dt*u_dot\n",
    "\n",
    "    \n",
    "\n",
    "    # #precision optimization\n",
    "    # dPI_w = alpha*0.5*(inv(PI_w) - np.diag(eps_x.flatten())**2)\n",
    "    # dPI_z = alpha*0.5*(inv(PI_z) - np.diag(eps_y.flatten())**2)\n",
    "    # PI_w = PI_w + dt*dPI_w\n",
    "    # PI_z = PI_z + dt*dPI_z\n",
    "\n",
    "    omega_w1[i+1] = PI_w[0,0]\n",
    "    omega_w2[i+1] = PI_w[1,1]\n",
    "    omega_z1[i+1] = PI_z[0,0]\n",
    "    omega_z2[i+1] = PI_z[1,1]\n",
    "    \n",
    "    sigma_w1[i+1] = 1/omega_w1[i+1]\n",
    "    sigma_w2[i+1] = 1/omega_w2[i+1]\n",
    "    sigma_z1[i+1] = 1/omega_z1[i+1] \n",
    "    sigma_z2[i+1] = 1/omega_z2[i+1]\n"
   ]
  },
  {
   "cell_type": "code",
   "execution_count": 39,
   "metadata": {},
   "outputs": [
    {
     "data": {
      "text/plain": [
       "<matplotlib.legend.Legend at 0x146e7a32590>"
      ]
     },
     "execution_count": 39,
     "metadata": {},
     "output_type": "execute_result"
    },
    {
     "data": {
      "image/png": "[encoded data removed]",
      "text/plain": [
       "<Figure size 640x480 with 1 Axes>"
      ]
     },
     "metadata": {},
     "output_type": "display_data"
    },
    {
     "data": {
      "image/png": "[encoded data removed]",
      "text/plain": [
       "<Figure size 640x480 with 1 Axes>"
      ]
     },
     "metadata": {},
     "output_type": "display_data"
    }
   ],
   "source": [
    "plt.figure()\n",
    "plt.plot(t,x, label = \"x\")\n",
    "plt.plot(t,mu_x, label = \"mu_x\")\n",
    "plt.legend()\n",
    "\n",
    "# plt.figure()\n",
    "# plt.plot(t,dfmu_x)\n",
    "\n",
    "plt.figure()\n",
    "# plt.plot(t,sigma_w1, label = \"sigma_w1\")\n",
    "# plt.plot(t,sigma_w2, label = \"sigma_w2\")\n",
    "plt.plot(t,sigma_z1, label = \"sigma_z1\")\n",
    "#plt.plot(t,sigma_z2, label = \"sigma_z2\")\n",
    "plt.legend()\n",
    "\n"
   ]
  }
 ],
 "metadata": {
  "kernelspec": {
   "display_name": "Affective-AI",
   "language": "python",
   "name": "python3"
  },
  "language_info": {
   "codemirror_mode": {
    "name": "ipython",
    "version": 3
   },
   "file_extension": ".py",
   "mimetype": "text/x-python",
   "name": "python",
   "nbconvert_exporter": "python",
   "pygments_lexer": "ipython3",
   "version": "3.10.11"
  },
  "orig_nbformat": 4
 },
 "nbformat": 4,
 "nbformat_minor": 2
}
